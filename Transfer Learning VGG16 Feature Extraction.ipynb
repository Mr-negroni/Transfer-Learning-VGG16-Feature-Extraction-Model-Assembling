{
 "cells": [
  {
   "cell_type": "code",
   "execution_count": 1,
   "id": "0e699b2e",
   "metadata": {},
   "outputs": [],
   "source": [
    "#Transfer Learning"
   ]
  },
  {
   "cell_type": "code",
   "execution_count": 3,
   "id": "b9df063b",
   "metadata": {},
   "outputs": [],
   "source": [
    "import tensorflow as tf\n",
    "from tensorflow.keras.applications import VGG16"
   ]
  },
  {
   "cell_type": "code",
   "execution_count": 4,
   "id": "105c318d",
   "metadata": {},
   "outputs": [
    {
     "name": "stdout",
     "output_type": "stream",
     "text": [
      "Downloading data from https://storage.googleapis.com/tensorflow/keras-applications/vgg16/vgg16_weights_tf_dim_ordering_tf_kernels_notop.h5\n",
      "58892288/58889256 [==============================] - 48s 1us/step\n",
      "58900480/58889256 [==============================] - 48s 1us/step\n"
     ]
    }
   ],
   "source": [
    "conv_base = VGG16(weights = 'imagenet',include_top = False,input_shape = (150,150,3))"
   ]
  },
  {
   "cell_type": "code",
   "execution_count": 18,
   "id": "2e9b5319",
   "metadata": {},
   "outputs": [],
   "source": [
    "#Can be Done using 2 Ways : 1. Feature Extraction: Using Model Conv Base with specific Classifier. This can be done in Two way \n",
    "                                #a. Computing labeled arrays and storing and then passing them in FC Classifier, feature extract,but can use Data Augmentation\n",
    "                                #b. Including our classifier and then training the whole model with Conv Base trainable being False\n",
    "                            # 2. Fine Tuning:"
   ]
  },
  {
   "cell_type": "code",
   "execution_count": 6,
   "id": "7409fa69",
   "metadata": {},
   "outputs": [],
   "source": [
    "#Using Method 1 a."
   ]
  },
  {
   "cell_type": "code",
   "execution_count": 7,
   "id": "c5df92c2",
   "metadata": {},
   "outputs": [
    {
     "name": "stdout",
     "output_type": "stream",
     "text": [
      "Model: \"vgg16\"\n",
      "_________________________________________________________________\n",
      " Layer (type)                Output Shape              Param #   \n",
      "=================================================================\n",
      " input_1 (InputLayer)        [(None, 150, 150, 3)]     0         \n",
      "                                                                 \n",
      " block1_conv1 (Conv2D)       (None, 150, 150, 64)      1792      \n",
      "                                                                 \n",
      " block1_conv2 (Conv2D)       (None, 150, 150, 64)      36928     \n",
      "                                                                 \n",
      " block1_pool (MaxPooling2D)  (None, 75, 75, 64)        0         \n",
      "                                                                 \n",
      " block2_conv1 (Conv2D)       (None, 75, 75, 128)       73856     \n",
      "                                                                 \n",
      " block2_conv2 (Conv2D)       (None, 75, 75, 128)       147584    \n",
      "                                                                 \n",
      " block2_pool (MaxPooling2D)  (None, 37, 37, 128)       0         \n",
      "                                                                 \n",
      " block3_conv1 (Conv2D)       (None, 37, 37, 256)       295168    \n",
      "                                                                 \n",
      " block3_conv2 (Conv2D)       (None, 37, 37, 256)       590080    \n",
      "                                                                 \n",
      " block3_conv3 (Conv2D)       (None, 37, 37, 256)       590080    \n",
      "                                                                 \n",
      " block3_pool (MaxPooling2D)  (None, 18, 18, 256)       0         \n",
      "                                                                 \n",
      " block4_conv1 (Conv2D)       (None, 18, 18, 512)       1180160   \n",
      "                                                                 \n",
      " block4_conv2 (Conv2D)       (None, 18, 18, 512)       2359808   \n",
      "                                                                 \n",
      " block4_conv3 (Conv2D)       (None, 18, 18, 512)       2359808   \n",
      "                                                                 \n",
      " block4_pool (MaxPooling2D)  (None, 9, 9, 512)         0         \n",
      "                                                                 \n",
      " block5_conv1 (Conv2D)       (None, 9, 9, 512)         2359808   \n",
      "                                                                 \n",
      " block5_conv2 (Conv2D)       (None, 9, 9, 512)         2359808   \n",
      "                                                                 \n",
      " block5_conv3 (Conv2D)       (None, 9, 9, 512)         2359808   \n",
      "                                                                 \n",
      " block5_pool (MaxPooling2D)  (None, 4, 4, 512)         0         \n",
      "                                                                 \n",
      "=================================================================\n",
      "Total params: 14,714,688\n",
      "Trainable params: 14,714,688\n",
      "Non-trainable params: 0\n",
      "_________________________________________________________________\n"
     ]
    }
   ],
   "source": [
    "conv_base.summary()"
   ]
  },
  {
   "cell_type": "code",
   "execution_count": 33,
   "id": "d3a4e25d",
   "metadata": {},
   "outputs": [
    {
     "name": "stdout",
     "output_type": "stream",
     "text": [
      "(None, 4, 4, 512)\n"
     ]
    }
   ],
   "source": [
    "len(conv_base.trainable_weights)\n",
    "out_put = []\n",
    "for layer in conv_base.layers:\n",
    "#     if layer=='block5_pool'\n",
    "#         output_shape_layer = layer.output_shape()\n",
    "    out_put.append(layer.output_shape)\n",
    "last_layer_output = out_put[-1]\n",
    "print(last_layer_output)"
   ]
  },
  {
   "cell_type": "code",
   "execution_count": 10,
   "id": "b7ce5298",
   "metadata": {},
   "outputs": [],
   "source": [
    "conv_base.trainable = False"
   ]
  },
  {
   "cell_type": "code",
   "execution_count": 11,
   "id": "90c39b79",
   "metadata": {},
   "outputs": [
    {
     "data": {
      "text/plain": [
       "0"
      ]
     },
     "execution_count": 11,
     "metadata": {},
     "output_type": "execute_result"
    }
   ],
   "source": [
    "len(conv_base.trainable_weights)"
   ]
  },
  {
   "cell_type": "code",
   "execution_count": 12,
   "id": "3b8d8910",
   "metadata": {},
   "outputs": [],
   "source": [
    "import os"
   ]
  },
  {
   "cell_type": "code",
   "execution_count": 40,
   "id": "59a92cd5",
   "metadata": {},
   "outputs": [],
   "source": [
    "os.getcwd()\n",
    "dataset = os.path.join(os.getcwd(),'small_dataset')\n",
    "tr_dataset = os.path.join(dataset,'train')\n",
    "test_dataset = os.path.join(dataset,'test')\n",
    "val_dataset = os.path.join(dataset,'validation')\n"
   ]
  },
  {
   "cell_type": "code",
   "execution_count": 15,
   "id": "dabe42c1",
   "metadata": {},
   "outputs": [],
   "source": [
    "from tensorflow.keras.preprocessing.image import ImageDataGenerator"
   ]
  },
  {
   "cell_type": "code",
   "execution_count": 16,
   "id": "0dc8ae66",
   "metadata": {},
   "outputs": [],
   "source": [
    "train_data_gen = ImageDataGenerator(rescale=1./255)\n",
    "test_data_gen = ImageDataGenerator(rescale=(1./255))"
   ]
  },
  {
   "cell_type": "code",
   "execution_count": 17,
   "id": "2a91e3cc",
   "metadata": {},
   "outputs": [],
   "source": [
    "datagen = ImageDataGenerator(rescale=1./255)"
   ]
  },
  {
   "cell_type": "code",
   "execution_count": 88,
   "id": "89101aa8",
   "metadata": {},
   "outputs": [],
   "source": [
    "batch_siz = 20"
   ]
  },
  {
   "cell_type": "code",
   "execution_count": 89,
   "id": "edb00ceb",
   "metadata": {},
   "outputs": [],
   "source": [
    "\n",
    "import numpy as np"
   ]
  },
  {
   "cell_type": "code",
   "execution_count": 95,
   "id": "7584f416",
   "metadata": {},
   "outputs": [],
   "source": [
    "def extract_features(directory,num_of_samples):\n",
    "    features = np.zeros(shape = (num_of_samples,4,4,512))\n",
    "    labels = np.zeros(shape = (num_of_samples))\n",
    "    generator = datagen.flow_from_directory(directory,batch_size = batch_siz,class_mode = 'binary',target_size = (150,150))\n",
    "    i = 0\n",
    "    for inputs_batch,label_batch in generator:\n",
    "        features_batch = conv_base.predict(inputs_batch)\n",
    "        features[i * batch_siz : (i + 1) * batch_siz] = features_batch\n",
    "        labels[i*20:(i + 1)*20] = label_batch\n",
    "        i+=1\n",
    "        if i*batch_siz>=num_of_samples:\n",
    "            break\n",
    "    return features,labels"
   ]
  },
  {
   "cell_type": "code",
   "execution_count": null,
   "id": "6badae9a",
   "metadata": {},
   "outputs": [],
   "source": []
  },
  {
   "cell_type": "code",
   "execution_count": 96,
   "id": "ae857a80",
   "metadata": {},
   "outputs": [
    {
     "data": {
      "text/plain": [
       "500"
      ]
     },
     "execution_count": 96,
     "metadata": {},
     "output_type": "execute_result"
    }
   ],
   "source": [
    "len(os.listdir(os.path.join(val_dataset,'dogs')))"
   ]
  },
  {
   "cell_type": "code",
   "execution_count": 97,
   "id": "56e92850",
   "metadata": {},
   "outputs": [
    {
     "name": "stdout",
     "output_type": "stream",
     "text": [
      "Found 2000 images belonging to 2 classes.\n"
     ]
    }
   ],
   "source": [
    "tr_features,tr_label = extract_features(tr_dataset,2000)"
   ]
  },
  {
   "cell_type": "code",
   "execution_count": 98,
   "id": "6ea490b9",
   "metadata": {},
   "outputs": [
    {
     "name": "stdout",
     "output_type": "stream",
     "text": [
      "Found 1000 images belonging to 2 classes.\n",
      "Found 1000 images belonging to 2 classes.\n"
     ]
    }
   ],
   "source": [
    "test_feature,test_label = extract_features(test_dataset,1000)\n",
    "val_feature,val_label = extract_features(val_dataset,1000)"
   ]
  },
  {
   "cell_type": "code",
   "execution_count": 101,
   "id": "2b82b0ab",
   "metadata": {},
   "outputs": [
    {
     "data": {
      "text/plain": [
       "(2000, 4, 4, 512)"
      ]
     },
     "execution_count": 101,
     "metadata": {},
     "output_type": "execute_result"
    }
   ],
   "source": [
    "tr_features.shape"
   ]
  },
  {
   "cell_type": "code",
   "execution_count": 102,
   "id": "eddc824e",
   "metadata": {},
   "outputs": [],
   "source": [
    "#As we have to feed this into neural network we need to flatten it out to 1D"
   ]
  },
  {
   "cell_type": "code",
   "execution_count": 106,
   "id": "679c60c3",
   "metadata": {},
   "outputs": [],
   "source": [
    "tr_features = np.reshape(tr_features,(2000,4*4*512))"
   ]
  },
  {
   "cell_type": "code",
   "execution_count": 107,
   "id": "9cce15f7",
   "metadata": {},
   "outputs": [
    {
     "data": {
      "text/plain": [
       "(2000, 8192)"
      ]
     },
     "execution_count": 107,
     "metadata": {},
     "output_type": "execute_result"
    }
   ],
   "source": [
    "tr_features.shape"
   ]
  },
  {
   "cell_type": "code",
   "execution_count": 108,
   "id": "52347e09",
   "metadata": {},
   "outputs": [],
   "source": [
    "test_feature = np.reshape(test_feature,(1000,4*4*512))"
   ]
  },
  {
   "cell_type": "code",
   "execution_count": 109,
   "id": "1e121e9e",
   "metadata": {},
   "outputs": [],
   "source": [
    "val_feature = np.reshape(val_feature,(1000,4*4*512))"
   ]
  },
  {
   "cell_type": "code",
   "execution_count": 110,
   "id": "25b995d3",
   "metadata": {},
   "outputs": [
    {
     "data": {
      "text/plain": [
       "(2000,)"
      ]
     },
     "execution_count": 110,
     "metadata": {},
     "output_type": "execute_result"
    }
   ],
   "source": [
    "tr_label.shape"
   ]
  },
  {
   "cell_type": "code",
   "execution_count": 112,
   "id": "ee41e9ec",
   "metadata": {},
   "outputs": [],
   "source": [
    "from tensorflow.keras.layers import Dense,Dropout\n",
    "from tensorflow.keras.models import Sequential"
   ]
  },
  {
   "cell_type": "code",
   "execution_count": 116,
   "id": "0068921e",
   "metadata": {},
   "outputs": [],
   "source": [
    "network_3 = Sequential([\n",
    "    Dense(256,activation = 'relu',input_dim=(4*4*512)),\n",
    "    Dropout((0.5)),\n",
    "    Dense(1,activation = 'sigmoid')\n",
    "])\n",
    "network_3.compile(loss= 'binary_crossentropy',optimizer = tf.keras.optimizers.RMSprop(learning_rate= 2e-5),metrics = ['accuracy'])"
   ]
  },
  {
   "cell_type": "code",
   "execution_count": 117,
   "id": "b37ce375",
   "metadata": {},
   "outputs": [
    {
     "name": "stdout",
     "output_type": "stream",
     "text": [
      "Epoch 1/30\n",
      "100/100 [==============================] - 3s 28ms/step - loss: 0.6042 - accuracy: 0.6630 - val_loss: 0.4479 - val_accuracy: 0.8090\n",
      "Epoch 2/30\n",
      "100/100 [==============================] - 3s 26ms/step - loss: 0.4249 - accuracy: 0.7925 - val_loss: 0.3607 - val_accuracy: 0.8650\n",
      "Epoch 3/30\n",
      "100/100 [==============================] - 2s 25ms/step - loss: 0.3547 - accuracy: 0.8530 - val_loss: 0.3205 - val_accuracy: 0.8750\n",
      "Epoch 4/30\n",
      "100/100 [==============================] - 3s 26ms/step - loss: 0.3144 - accuracy: 0.8720 - val_loss: 0.2988 - val_accuracy: 0.8720\n",
      "Epoch 5/30\n",
      "100/100 [==============================] - 3s 28ms/step - loss: 0.2805 - accuracy: 0.8820 - val_loss: 0.2801 - val_accuracy: 0.8820\n",
      "Epoch 6/30\n",
      "100/100 [==============================] - 3s 28ms/step - loss: 0.2654 - accuracy: 0.8940 - val_loss: 0.2738 - val_accuracy: 0.8820\n",
      "Epoch 7/30\n",
      "100/100 [==============================] - 3s 28ms/step - loss: 0.2416 - accuracy: 0.8990 - val_loss: 0.2602 - val_accuracy: 0.8900\n",
      "Epoch 8/30\n",
      "100/100 [==============================] - 3s 27ms/step - loss: 0.2247 - accuracy: 0.9165 - val_loss: 0.2608 - val_accuracy: 0.8880\n",
      "Epoch 9/30\n",
      "100/100 [==============================] - 3s 26ms/step - loss: 0.2165 - accuracy: 0.9195 - val_loss: 0.2478 - val_accuracy: 0.8960\n",
      "Epoch 10/30\n",
      "100/100 [==============================] - 3s 27ms/step - loss: 0.2010 - accuracy: 0.9250 - val_loss: 0.2430 - val_accuracy: 0.8990\n",
      "Epoch 11/30\n",
      "100/100 [==============================] - 2s 25ms/step - loss: 0.1881 - accuracy: 0.9260 - val_loss: 0.2425 - val_accuracy: 0.8960\n",
      "Epoch 12/30\n",
      "100/100 [==============================] - 3s 26ms/step - loss: 0.1847 - accuracy: 0.9345 - val_loss: 0.2499 - val_accuracy: 0.8910\n",
      "Epoch 13/30\n",
      "100/100 [==============================] - 3s 27ms/step - loss: 0.1733 - accuracy: 0.9355 - val_loss: 0.2448 - val_accuracy: 0.8950\n",
      "Epoch 14/30\n",
      "100/100 [==============================] - 3s 30ms/step - loss: 0.1681 - accuracy: 0.9365 - val_loss: 0.2388 - val_accuracy: 0.9030\n",
      "Epoch 15/30\n",
      "100/100 [==============================] - 3s 26ms/step - loss: 0.1577 - accuracy: 0.9420 - val_loss: 0.2346 - val_accuracy: 0.9090\n",
      "Epoch 16/30\n",
      "100/100 [==============================] - 3s 27ms/step - loss: 0.1473 - accuracy: 0.9505 - val_loss: 0.2337 - val_accuracy: 0.9090\n",
      "Epoch 17/30\n",
      "100/100 [==============================] - 3s 32ms/step - loss: 0.1444 - accuracy: 0.9480 - val_loss: 0.2383 - val_accuracy: 0.9020\n",
      "Epoch 18/30\n",
      "100/100 [==============================] - 3s 29ms/step - loss: 0.1384 - accuracy: 0.9535 - val_loss: 0.2326 - val_accuracy: 0.9070\n",
      "Epoch 19/30\n",
      "100/100 [==============================] - 3s 30ms/step - loss: 0.1344 - accuracy: 0.9530 - val_loss: 0.2415 - val_accuracy: 0.9000\n",
      "Epoch 20/30\n",
      "100/100 [==============================] - 3s 27ms/step - loss: 0.1283 - accuracy: 0.9565 - val_loss: 0.2303 - val_accuracy: 0.9070\n",
      "Epoch 21/30\n",
      "100/100 [==============================] - 2s 24ms/step - loss: 0.1252 - accuracy: 0.9580 - val_loss: 0.2303 - val_accuracy: 0.9080\n",
      "Epoch 22/30\n",
      "100/100 [==============================] - 2s 24ms/step - loss: 0.1192 - accuracy: 0.9640 - val_loss: 0.2312 - val_accuracy: 0.9100\n",
      "Epoch 23/30\n",
      "100/100 [==============================] - 2s 24ms/step - loss: 0.1112 - accuracy: 0.9600 - val_loss: 0.2379 - val_accuracy: 0.9060\n",
      "Epoch 24/30\n",
      "100/100 [==============================] - 2s 23ms/step - loss: 0.1109 - accuracy: 0.9635 - val_loss: 0.2334 - val_accuracy: 0.9090\n",
      "Epoch 25/30\n",
      "100/100 [==============================] - 2s 24ms/step - loss: 0.1080 - accuracy: 0.9655 - val_loss: 0.2447 - val_accuracy: 0.8970\n",
      "Epoch 26/30\n",
      "100/100 [==============================] - 3s 26ms/step - loss: 0.0993 - accuracy: 0.9675 - val_loss: 0.2313 - val_accuracy: 0.9090\n",
      "Epoch 27/30\n",
      "100/100 [==============================] - 3s 26ms/step - loss: 0.1007 - accuracy: 0.9690 - val_loss: 0.2390 - val_accuracy: 0.9050\n",
      "Epoch 28/30\n",
      "100/100 [==============================] - 2s 24ms/step - loss: 0.0955 - accuracy: 0.9700 - val_loss: 0.2566 - val_accuracy: 0.8980\n",
      "Epoch 29/30\n",
      "100/100 [==============================] - 3s 25ms/step - loss: 0.0884 - accuracy: 0.9750 - val_loss: 0.2332 - val_accuracy: 0.9060\n",
      "Epoch 30/30\n",
      "100/100 [==============================] - 3s 26ms/step - loss: 0.0882 - accuracy: 0.9730 - val_loss: 0.2357 - val_accuracy: 0.9100\n"
     ]
    }
   ],
   "source": [
    "history = network_3.fit(tr_features,tr_label,epochs = 30,batch_size = 20,validation_data=(val_feature,val_label))"
   ]
  },
  {
   "cell_type": "code",
   "execution_count": 118,
   "id": "2ddcbd3f",
   "metadata": {},
   "outputs": [],
   "source": [
    "history_dict = history.history"
   ]
  },
  {
   "cell_type": "code",
   "execution_count": 120,
   "id": "3fc20f33",
   "metadata": {},
   "outputs": [],
   "source": [
    "epochs = range(1,len(history_dict['accuracy'])+1)"
   ]
  },
  {
   "cell_type": "code",
   "execution_count": 122,
   "id": "48fb1395",
   "metadata": {},
   "outputs": [],
   "source": [
    "acc= history_dict['accuracy']\n",
    "loss= history_dict['loss']\n",
    "val_acc= history_dict['val_accuracy']\n",
    "val_loss= history_dict['val_loss']"
   ]
  },
  {
   "cell_type": "code",
   "execution_count": 124,
   "id": "cca6eec9",
   "metadata": {},
   "outputs": [],
   "source": [
    "import matplotlib.pyplot as plt\n",
    "%matplotlib inline"
   ]
  },
  {
   "cell_type": "code",
   "execution_count": 126,
   "id": "c0f203df",
   "metadata": {},
   "outputs": [
    {
     "data": {
      "image/png": "[encoded data removed]",
      "text/plain": [
       "<Figure size 432x288 with 1 Axes>"
      ]
     },
     "metadata": {
      "needs_background": "light"
     },
     "output_type": "display_data"
    }
   ],
   "source": [
    "plt.plot(epochs,acc,label = 'Training accuracy',marker = 'x')\n",
    "plt.plot(epochs,val_acc,label = 'Val_accracy')\n",
    "plt.xlabel('Epochs')\n",
    "plt.ylabel('Accuracy')\n",
    "plt.legend()\n",
    "plt.show()"
   ]
  },
  {
   "cell_type": "code",
   "execution_count": 127,
   "id": "4798f69d",
   "metadata": {},
   "outputs": [
    {
     "data": {
      "image/png": "[encoded data removed]",
      "text/plain": [
       "<Figure size 432x288 with 1 Axes>"
      ]
     },
     "metadata": {
      "needs_background": "light"
     },
     "output_type": "display_data"
    }
   ],
   "source": [
    "plt.plot(epochs,loss,label = 'Training Loss',marker = 'x')\n",
    "plt.plot(epochs,val_loss,label = 'Val_Loss')\n",
    "plt.xlabel('Epochs')\n",
    "plt.ylabel('Loss')\n",
    "plt.legend()\n",
    "plt.show()"
   ]
  },
  {
   "cell_type": "code",
   "execution_count": 128,
   "id": "2bfcfd2b",
   "metadata": {},
   "outputs": [],
   "source": [
    "#It is still overfitting despite using DropoOut, because the main thing which can reduce overfitting is Data Augmentation,but it\n",
    "# cant be done with this method, for that we need to train the whole network by adding our own Classifier and usign \n",
    "#Image Data Generator"
   ]
  },
  {
   "cell_type": "code",
   "execution_count": 129,
   "id": "56d219b9",
   "metadata": {},
   "outputs": [
    {
     "name": "stdout",
     "output_type": "stream",
     "text": [
      "32/32 [==============================] - 0s 5ms/step - loss: 0.2605 - accuracy: 0.8830\n"
     ]
    },
    {
     "data": {
      "text/plain": [
       "[0.2604633569717407, 0.8830000162124634]"
      ]
     },
     "execution_count": 129,
     "metadata": {},
     "output_type": "execute_result"
    }
   ],
   "source": [
    "network_3.evaluate(test_feature,test_label)"
   ]
  },
  {
   "cell_type": "code",
   "execution_count": 132,
   "id": "268c90f9",
   "metadata": {},
   "outputs": [
    {
     "name": "stdout",
     "output_type": "stream",
     "text": [
      "WARNING:tensorflow:Compiled the loaded model, but the compiled metrics have yet to be built. `model.compile_metrics` will be empty until you train or evaluate the model.\n"
     ]
    }
   ],
   "source": [
    "conv_base.save('Conv_Base_from_VGG16.h5')"
   ]
  },
  {
   "cell_type": "code",
   "execution_count": 133,
   "id": "d625c4d8",
   "metadata": {},
   "outputs": [],
   "source": [
    "network_3.save('Top_Dense_Layer_specifically_made.h5')"
   ]
  },
  {
   "cell_type": "code",
   "execution_count": 143,
   "id": "a789eb6f",
   "metadata": {},
   "outputs": [],
   "source": [
    "#Now we can go for Part second method of Feature Extraction: which is making the whole model and Training it\n",
    "from tensorflow.keras.layers import Flatten\n",
    "import tensorflow\n",
    "conv_base.trainable = False"
   ]
  },
  {
   "cell_type": "code",
   "execution_count": 141,
   "id": "e677b776",
   "metadata": {},
   "outputs": [],
   "source": [
    "network_3_b = Sequential([\n",
    "    conv_base,\n",
    "    Flatten(),\n",
    "    Dense(256,activation = 'relu'),\n",
    "    Dense(1,activation = 'sigmoid')\n",
    "])"
   ]
  },
  {
   "cell_type": "code",
   "execution_count": 154,
   "id": "5104799c",
   "metadata": {},
   "outputs": [],
   "source": [
    "network_3_b.compile(loss= 'binary_crossentropy',optimizer = tensorflow.keras.optimizers.RMSprop(learning_rate= 2e-5),metrics=['accuracy'])"
   ]
  },
  {
   "cell_type": "code",
   "execution_count": 146,
   "id": "9dedb1e3",
   "metadata": {},
   "outputs": [],
   "source": [
    "from tensorflow.keras.preprocessing.image import ImageDataGenerator"
   ]
  },
  {
   "cell_type": "code",
   "execution_count": 149,
   "id": "e420956b",
   "metadata": {},
   "outputs": [],
   "source": [
    "train_datagen = ImageDataGenerator(rescale=1./255,rotation_range=40,\n",
    "width_shift_range=0.2,\n",
    "height_shift_range=0.2,\n",
    "shear_range=0.2,\n",
    "zoom_range=0.2,\n",
    "horizontal_flip=True,\n",
    "fill_mode='nearest')\n"
   ]
  },
  {
   "cell_type": "code",
   "execution_count": 150,
   "id": "20cd4588",
   "metadata": {},
   "outputs": [],
   "source": [
    "test_datagen = ImageDataGenerator(rescale=1./255)"
   ]
  },
  {
   "cell_type": "code",
   "execution_count": 151,
   "id": "eec97239",
   "metadata": {},
   "outputs": [
    {
     "name": "stdout",
     "output_type": "stream",
     "text": [
      "Found 2000 images belonging to 2 classes.\n"
     ]
    }
   ],
   "source": [
    "train_dataset = train_datagen.flow_from_directory(tr_dataset,target_size = (150,150),batch_size= 20,class_mode = 'binary')"
   ]
  },
  {
   "cell_type": "code",
   "execution_count": 153,
   "id": "ed74856a",
   "metadata": {},
   "outputs": [
    {
     "name": "stdout",
     "output_type": "stream",
     "text": [
      "Found 1000 images belonging to 2 classes.\n"
     ]
    }
   ],
   "source": [
    "validation_dataset = test_datagen.flow_from_directory(test_dataset,target_size = (150,150),batch_size= 20,class_mode = 'binary')"
   ]
  },
  {
   "cell_type": "code",
   "execution_count": 156,
   "id": "de0376ea",
   "metadata": {},
   "outputs": [
    {
     "name": "stdout",
     "output_type": "stream",
     "text": [
      "Epoch 1/30\n",
      "20/20 [==============================] - 165s 9s/step - loss: 0.6257 - accuracy: 0.6575 - val_loss: 0.5667 - val_accuracy: 0.7640\n",
      "Epoch 2/30\n",
      "20/20 [==============================] - 170s 9s/step - loss: 0.6017 - accuracy: 0.6950 - val_loss: 0.5240 - val_accuracy: 0.7920\n",
      "Epoch 3/30\n",
      "20/20 [==============================] - 172s 9s/step - loss: 0.5559 - accuracy: 0.7600 - val_loss: 0.4850 - val_accuracy: 0.8140\n",
      "Epoch 4/30\n",
      "20/20 [==============================] - 164s 9s/step - loss: 0.5237 - accuracy: 0.7800 - val_loss: 0.4648 - val_accuracy: 0.8100\n",
      "Epoch 5/30\n",
      "20/20 [==============================] - 160s 8s/step - loss: 0.4863 - accuracy: 0.8175 - val_loss: 0.4486 - val_accuracy: 0.8100\n",
      "Epoch 6/30\n",
      "20/20 [==============================] - 161s 8s/step - loss: 0.5097 - accuracy: 0.7450 - val_loss: 0.4086 - val_accuracy: 0.8370\n",
      "Epoch 7/30\n",
      "20/20 [==============================] - 162s 8s/step - loss: 0.4884 - accuracy: 0.7850 - val_loss: 0.3932 - val_accuracy: 0.8420\n",
      "Epoch 8/30\n",
      "20/20 [==============================] - 161s 8s/step - loss: 0.4631 - accuracy: 0.8000 - val_loss: 0.3824 - val_accuracy: 0.8480\n",
      "Epoch 9/30\n",
      "20/20 [==============================] - 161s 8s/step - loss: 0.4579 - accuracy: 0.8025 - val_loss: 0.3818 - val_accuracy: 0.8350\n",
      "Epoch 10/30\n",
      "20/20 [==============================] - 159s 8s/step - loss: 0.4244 - accuracy: 0.8400 - val_loss: 0.3601 - val_accuracy: 0.8500\n",
      "Epoch 11/30\n",
      "20/20 [==============================] - 160s 8s/step - loss: 0.4254 - accuracy: 0.8050 - val_loss: 0.3607 - val_accuracy: 0.8430\n",
      "Epoch 12/30\n",
      "20/20 [==============================] - 164s 9s/step - loss: 0.4057 - accuracy: 0.8325 - val_loss: 0.3636 - val_accuracy: 0.8410\n",
      "Epoch 13/30\n",
      "20/20 [==============================] - 189s 10s/step - loss: 0.4292 - accuracy: 0.8125 - val_loss: 0.3499 - val_accuracy: 0.8500\n",
      "Epoch 14/30\n",
      "20/20 [==============================] - 181s 9s/step - loss: 0.3899 - accuracy: 0.8350 - val_loss: 0.3493 - val_accuracy: 0.8460\n",
      "Epoch 15/30\n",
      "20/20 [==============================] - 173s 9s/step - loss: 0.4138 - accuracy: 0.8200 - val_loss: 0.3347 - val_accuracy: 0.8490\n",
      "Epoch 16/30\n",
      "20/20 [==============================] - 166s 9s/step - loss: 0.4151 - accuracy: 0.7950 - val_loss: 0.3365 - val_accuracy: 0.8610\n",
      "Epoch 17/30\n",
      "20/20 [==============================] - 191s 10s/step - loss: 0.3771 - accuracy: 0.8350 - val_loss: 0.3225 - val_accuracy: 0.8650\n",
      "Epoch 18/30\n",
      "20/20 [==============================] - 160s 8s/step - loss: 0.3941 - accuracy: 0.8175 - val_loss: 0.3231 - val_accuracy: 0.8660\n",
      "Epoch 19/30\n",
      "20/20 [==============================] - 159s 8s/step - loss: 0.3993 - accuracy: 0.8000 - val_loss: 0.3174 - val_accuracy: 0.8590\n",
      "Epoch 20/30\n",
      "20/20 [==============================] - 177s 9s/step - loss: 0.3537 - accuracy: 0.8475 - val_loss: 0.3410 - val_accuracy: 0.8530\n",
      "Epoch 21/30\n",
      "20/20 [==============================] - 187s 10s/step - loss: 0.3664 - accuracy: 0.8375 - val_loss: 0.3386 - val_accuracy: 0.8580\n",
      "Epoch 22/30\n",
      "20/20 [==============================] - 175s 9s/step - loss: 0.3683 - accuracy: 0.8325 - val_loss: 0.3119 - val_accuracy: 0.8690\n",
      "Epoch 23/30\n",
      "20/20 [==============================] - 166s 9s/step - loss: 0.3764 - accuracy: 0.8225 - val_loss: 0.3117 - val_accuracy: 0.8620\n",
      "Epoch 24/30\n",
      "20/20 [==============================] - 160s 8s/step - loss: 0.3670 - accuracy: 0.8350 - val_loss: 0.3009 - val_accuracy: 0.8700\n",
      "Epoch 25/30\n",
      "20/20 [==============================] - 160s 8s/step - loss: 0.3600 - accuracy: 0.8550 - val_loss: 0.3032 - val_accuracy: 0.8770\n",
      "Epoch 26/30\n",
      "20/20 [==============================] - 160s 8s/step - loss: 0.3922 - accuracy: 0.8050 - val_loss: 0.3126 - val_accuracy: 0.8690\n",
      "Epoch 27/30\n",
      "20/20 [==============================] - 160s 8s/step - loss: 0.3721 - accuracy: 0.8175 - val_loss: 0.2933 - val_accuracy: 0.8720\n",
      "Epoch 28/30\n",
      "20/20 [==============================] - 161s 8s/step - loss: 0.3494 - accuracy: 0.8475 - val_loss: 0.2922 - val_accuracy: 0.8720\n",
      "Epoch 29/30\n",
      "20/20 [==============================] - 161s 8s/step - loss: 0.3513 - accuracy: 0.8500 - val_loss: 0.3115 - val_accuracy: 0.8700\n",
      "Epoch 30/30\n",
      "20/20 [==============================] - 169s 9s/step - loss: 0.3755 - accuracy: 0.8400 - val_loss: 0.2879 - val_accuracy: 0.8760\n"
     ]
    },
    {
     "data": {
      "text/plain": [
       "<keras.callbacks.History at 0x20b81b9c700>"
      ]
     },
     "execution_count": 156,
     "metadata": {},
     "output_type": "execute_result"
    }
   ],
   "source": [
    "network_3_b.fit(train_dataset,steps_per_epoch=20,epochs=30,validation_data=validation_dataset,validation_steps=20)"
   ]
  },
  {
   "cell_type": "code",
   "execution_count": 157,
   "id": "fe95508b",
   "metadata": {},
   "outputs": [],
   "source": [
    "# if it would have been trained much longer it would have easily achieved 90+ accuracy"
   ]
  },
  {
   "cell_type": "code",
   "execution_count": 162,
   "id": "08a9ddad",
   "metadata": {},
   "outputs": [],
   "source": [
    "history = id(0x20b81b9c700)"
   ]
  },
  {
   "cell_type": "code",
   "execution_count": 163,
   "id": "8ca3cf43",
   "metadata": {},
   "outputs": [
    {
     "data": {
      "text/plain": [
       "2248444514704"
      ]
     },
     "execution_count": 163,
     "metadata": {},
     "output_type": "execute_result"
    }
   ],
   "source": [
    "history"
   ]
  },
  {
   "cell_type": "code",
   "execution_count": 164,
   "id": "ea816b13",
   "metadata": {},
   "outputs": [
    {
     "name": "stdout",
     "output_type": "stream",
     "text": [
      "Found 1000 images belonging to 2 classes.\n"
     ]
    }
   ],
   "source": [
    "test_dataset1 = test_datagen.flow_from_directory(val_dataset,target_size = (150,150),batch_size= 20,class_mode = 'binary')"
   ]
  },
  {
   "cell_type": "code",
   "execution_count": 165,
   "id": "230ed3ba",
   "metadata": {},
   "outputs": [
    {
     "name": "stdout",
     "output_type": "stream",
     "text": [
      "50/50 [==============================] - 114s 2s/step - loss: 0.2793 - accuracy: 0.8820\n"
     ]
    },
    {
     "data": {
      "text/plain": [
       "[0.2792971432209015, 0.8820000290870667]"
      ]
     },
     "execution_count": 165,
     "metadata": {},
     "output_type": "execute_result"
    }
   ],
   "source": [
    "network_3_b.evaluate(test_dataset1)"
   ]
  },
  {
   "cell_type": "code",
   "execution_count": 166,
   "id": "23449fe6",
   "metadata": {},
   "outputs": [],
   "source": [
    "network_3.save('Most_accurate_model.h5')"
   ]
  },
  {
   "cell_type": "code",
   "execution_count": 167,
   "id": "35de48b9",
   "metadata": {},
   "outputs": [],
   "source": [
    "# it can be easily seen that we have achieved 88 percent accuracy on training data, 87 on val and 84 on training data. If during\n",
    "#training time we had more epochs, this would have easily reached 95+"
   ]
  },
  {
   "cell_type": "code",
   "execution_count": null,
   "id": "f838293f",
   "metadata": {},
   "outputs": [],
   "source": []
  }
 ],
 "metadata": {
  "kernelspec": {
   "display_name": "Python 3 (ipykernel)",
   "language": "python",
   "name": "python3"
  },
  "language_info": {
   "codemirror_mode": {
    "name": "ipython",
    "version": 3
   },
   "file_extension": ".py",
   "mimetype": "text/x-python",
   "name": "python",
   "nbconvert_exporter": "python",
   "pygments_lexer": "ipython3",
   "version": "3.9.7"
  }
 },
 "nbformat": 4,
 "nbformat_minor": 5
}
